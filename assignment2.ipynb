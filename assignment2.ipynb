{
 "cells": [
  {
   "cell_type": "markdown",
   "metadata": {},
   "source": [
    "Create a List L that is defined as= [10, 20, 30, 40, 50, 60, 70, 80]. \n",
    "WAP to add 200 and 300 to L. \n",
    "WAP to remove 10 and 30 from L. \n",
    "WAP to sort L in ascending order. \n",
    "WAP to sort L in descending order."
   ]
  },
  {
   "cell_type": "code",
   "execution_count": 8,
   "metadata": {},
   "outputs": [],
   "source": [
    "l = [10, 20, 30, 40, 50, 60, 70, 80]\n",
    "l.append(200)\n",
    "l.append(300)\n",
    "l.remove(10)\n",
    "l.remove(30)\n",
    "l.sort()\n",
    "l.sort(reverse=True)"
   ]
  },
  {
   "cell_type": "markdown",
   "metadata": {},
   "source": [
    "Create a tuple of marks scored as scores = (45, 89.5, 76, 45.4, 89, 92, 58, 45) and \n",
    "perform the following operations using tuple functions:\n",
    "Identify the highest score and its index in the tuple. \n",
    "Find the lowest score and count how many times it appears. \n",
    "Reverse the tuple and return it as a list. \n",
    "Check if a specific score ‘76’ (input by the user) is present in the tuple and \n",
    "print its first occurrence index, or a message saying it’s not present. "
   ]
  },
  {
   "cell_type": "code",
   "execution_count": 3,
   "metadata": {},
   "outputs": [
    {
     "name": "stdout",
     "output_type": "stream",
     "text": [
      "5\n",
      "2\n",
      "[45, 58, 92, 89, 45.4, 76, 89.5, 45]\n",
      "index of 76 is: 2\n"
     ]
    }
   ],
   "source": [
    "scores=(45, 89.5, 76, 45.4, 89, 92, 58, 45)\n",
    "max_score = max(scores)\n",
    "print(scores.index(max_score))\n",
    "min_score = min(scores)\n",
    "print(scores.count(min_score))\n",
    "reversed_list = list(scores[::-1])\n",
    "print(reversed_list)\n",
    "if 76 in scores:\n",
    "    print(\"index of 76 is:\",scores.index(76))\n",
    "else:\n",
    "    print(\"76 is not present\")"
   ]
  },
  {
   "cell_type": "markdown",
   "metadata": {},
   "source": [
    "WAP to create a list of 100 random numbers between 100 and 900. Count and print the:\n",
    "All odd numbers \n",
    "All even numbers \n",
    "All prime numbers"
   ]
  },
  {
   "cell_type": "code",
   "execution_count": 5,
   "metadata": {},
   "outputs": [
    {
     "name": "stdout",
     "output_type": "stream",
     "text": [
      "Total Odd Numbers: 40\n",
      "[893, 357, 853, 195, 455, 577, 435, 741, 675, 575, 841, 173, 771, 327, 513, 193, 813, 777, 351, 389, 741, 635, 823, 433, 713, 273, 851, 411, 289, 113, 133, 221, 577, 459, 549, 525, 541, 499, 205, 227]\n",
      "Total Even Numbers: 60\n",
      "[536, 606, 238, 194, 586, 784, 440, 844, 592, 126, 746, 630, 802, 410, 478, 386, 456, 592, 492, 548, 732, 440, 442, 796, 230, 546, 856, 312, 636, 114, 572, 182, 444, 594, 640, 846, 142, 240, 340, 870, 398, 120, 384, 558, 584, 722, 558, 886, 864, 824, 744, 626, 574, 436, 794, 216, 350, 392, 598, 802]\n",
      "Total Prime Numbers: 12\n",
      "[853, 577, 173, 193, 389, 823, 433, 113, 577, 541, 499, 227]\n"
     ]
    }
   ],
   "source": [
    "import random\n",
    "def is_prime(n):\n",
    "    if n < 2:\n",
    "        return False\n",
    "    for i in range(2, int(n**0.5) + 1):\n",
    "        if n % i == 0:\n",
    "            return False\n",
    "    return True\n",
    "l1 = [random.randint(100,900) for _ in range(100)]\n",
    "odd_count = [i for i in l1 if i % 2 != 0]\n",
    "even_count = [i for i in l1 if i % 2 == 0]\n",
    "prime_count = [i for i in l1 if is_prime(i)]\n",
    "print(f\"Total Odd Numbers: {len(odd_count)}\\n{odd_count}\")\n",
    "print(f\"Total Even Numbers: {len(even_count)}\\n{even_count}\")\n",
    "print(f\"Total Prime Numbers: {len(prime_count)}\\n{prime_count}\")"
   ]
  },
  {
   "cell_type": "markdown",
   "metadata": {},
   "source": [
    "Consider the following two sets, A and B, represen ng scores of two teams in mul ple \n",
    "matches.  A = {34, 56, 78, 90}  and B = {78, 45, 90, 23} \n",
    "WAP to perform the following operations using set functions: \n",
    "Find the unique scores achieved by both teams (union of sets). \n",
    "Identify the scores that are common to both teams (intersec on of sets). \n",
    "Find the scores that are exclusive to each team (symmetric difference). \n",
    "Check if the scores of team A are a subset of team B, and if team B's scores are a superset of team A. \n",
    "Remove a specific score 𝑋 (input by the user) from set A if it exists. If not, print a message saying it is not present. "
   ]
  },
  {
   "cell_type": "code",
   "execution_count": 7,
   "metadata": {},
   "outputs": [
    {
     "name": "stdout",
     "output_type": "stream",
     "text": [
      "{34, 45, 78, 23, 56, 90}\n",
      "{90, 78}\n",
      "{34, 45, 23, 56}\n",
      "False\n",
      "False\n",
      "2 is not present in set A\n"
     ]
    }
   ],
   "source": [
    "A = {34, 56, 78, 90}\n",
    "B = {78, 45, 90, 23}\n",
    "print(A.union(B))\n",
    "print(A.intersection(B))\n",
    "print(A.symmetric_difference(B))\n",
    "print(A.issubset(B))\n",
    "print(B.issuperset(A))\n",
    "x = int(input(\"Enter the score to remove:\"))\n",
    "if x in A:\n",
    "    A.remove(x)\n",
    "else:\n",
    "    print(f\"{x} is not present in set A\")"
   ]
  },
  {
   "cell_type": "markdown",
   "metadata": {},
   "source": [
    "Write a program to rename a key city to a location in the following dictionary."
   ]
  },
  {
   "cell_type": "code",
   "execution_count": 9,
   "metadata": {},
   "outputs": [
    {
     "name": "stdout",
     "output_type": "stream",
     "text": [
      "{' name': ' Kelly', 'age': 25, ' salary': 8000, 'location': 'New york'}\n"
     ]
    }
   ],
   "source": [
    "sample_dict = {\" name\" :\" Kelly\" ,\"age\" : 25,\" salary\" : 8000, \"city\": \"New york\"}\n",
    "sample_dict[\"location\"] = sample_dict.pop(\"city\")\n",
    "print(sample_dict)"
   ]
  }
 ],
 "metadata": {
  "kernelspec": {
   "display_name": "Python 3",
   "language": "python",
   "name": "python3"
  },
  "language_info": {
   "codemirror_mode": {
    "name": "ipython",
    "version": 3
   },
   "file_extension": ".py",
   "mimetype": "text/x-python",
   "name": "python",
   "nbconvert_exporter": "python",
   "pygments_lexer": "ipython3",
   "version": "3.12.1"
  }
 },
 "nbformat": 4,
 "nbformat_minor": 2
}
