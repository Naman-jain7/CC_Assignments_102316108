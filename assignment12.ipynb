{
  "nbformat": 4,
  "nbformat_minor": 0,
  "metadata": {
    "colab": {
      "provenance": [],
      "authorship_tag": "ABX9TyMoqVjceURa8Is2J5IkmfKY",
      "include_colab_link": true
    },
    "kernelspec": {
      "name": "python3",
      "display_name": "Python 3"
    },
    "language_info": {
      "name": "python"
    }
  },
  "cells": [
    {
      "cell_type": "markdown",
      "metadata": {
        "id": "view-in-github",
        "colab_type": "text"
      },
      "source": [
        "<a href=\"https://colab.research.google.com/github/Naman-jain7/CC_Assignments_102316108/blob/main/assignment12.ipynb\" target=\"_parent\"><img src=\"https://colab.research.google.com/assets/colab-badge.svg\" alt=\"Open In Colab\"/></a>"
      ]
    },
    {
      "cell_type": "code",
      "execution_count": 9,
      "metadata": {
        "id": "JzM7mEOBJLi_",
        "colab": {
          "base_uri": "https://localhost:8080/"
        },
        "outputId": "401d5328-5ed0-462f-8ab1-15df588ea454"
      },
      "outputs": [
        {
          "output_type": "stream",
          "name": "stderr",
          "text": [
            "List Trainer: 31it [00:00, 515.86it/s]\n"
          ]
        }
      ],
      "source": [
        "from chatterbot import ChatBot\n",
        "from chatterbot.trainers import ListTrainer\n",
        "\n",
        "health_bot = ChatBot(\"HealthBot\")\n",
        "\n",
        "conversation = [\n",
        "    'Hi', 'Hello! I am HealthBot. How can I assist you today?',\n",
        "    'Hello', 'Hi! Do you have a health-related question?',\n",
        "    'I have a headache', 'You should rest, stay hydrated, and take a mild pain reliever if needed.',\n",
        "    'What should I do if I have a fever?', 'Drink plenty of fluids and rest. If the fever persists, please consult a doctor.',\n",
        "    'I have a sore throat', 'Gargle with warm salt water and stay hydrated. If it persists, consult a doctor.',\n",
        "    'Can I exercise with a cold?', 'Light exercise is okay if symptoms are mild, but rest is better when you’re sick.',\n",
        "    'What are signs of dehydration?', 'Dry mouth, dark urine, dizziness, and fatigue are common signs.',\n",
        "    'How to improve sleep quality?', 'Avoid screens before bed, maintain a schedule, and create a calm environment.',\n",
        "    'What are good sources of protein?', 'Eggs, lentils, chicken, tofu, nuts, and dairy are excellent protein sources.'\n",
        "    'I feel dizzy', 'Sit down, breathe deeply, and drink water. If it continues, seek medical help.',\n",
        "    'What should I eat for a cold?', 'Warm fluids, soups, citrus fruits, and light meals help during a cold.',\n",
        "    'How to stay healthy?', 'Eat balanced meals, exercise regularly, stay hydrated, and get enough sleep.',\n",
        "    'What should I do in case of a cut?', 'Clean the wound with water, apply antiseptic, and cover it with a clean bandage.',\n",
        "    'How much water should I drink daily?', 'Generally, 2 to 3 liters per day is recommended, but it varies based on your activity.',\n",
        "    'Thank you', 'You’re welcome! Take care.',\n",
        "    'Bye', 'Goodbye! Stay healthy.'\n",
        "]\n",
        "\n",
        "trainer = ListTrainer(health_bot)\n",
        "trainer.train(conversation)"
      ]
    },
    {
      "cell_type": "code",
      "source": [
        "while True:\n",
        "    user_input = input(\"You: \")\n",
        "    if user_input.lower() in ['exit', 'quit']:\n",
        "        print(\"HealthBot: Goodbye! Stay healthy.\")\n",
        "        break\n",
        "    response = health_bot.get_response(user_input)\n",
        "    print(\"HealthBot:\", response)"
      ],
      "metadata": {
        "colab": {
          "base_uri": "https://localhost:8080/"
        },
        "id": "jI8UJOFTOPtp",
        "outputId": "c64fc24c-38d2-40fd-e1ba-782f8221dbf3"
      },
      "execution_count": 13,
      "outputs": [
        {
          "output_type": "stream",
          "name": "stdout",
          "text": [
            "You: hi\n",
            "HealthBot: Hello! I am HealthBot. How can I assist you today?\n",
            "You: how to stay healthy\n",
            "HealthBot: Eat balanced meals, exercise regularly, stay hydrated, and get enough sleep.\n",
            "You: i am feeling dizzy\n",
            "HealthBot: Sit down, breathe deeply, and drink water. If it continues, seek medical help.\n",
            "You: can i exercise in cold\n",
            "HealthBot: Light exercise is okay if symptoms are mild, but rest is better when you’re sick.\n",
            "You: thank you\n",
            "HealthBot: You’re welcome! Take care.\n",
            "You: quit\n",
            "HealthBot: Goodbye! Stay healthy.\n"
          ]
        }
      ]
    }
  ]
}